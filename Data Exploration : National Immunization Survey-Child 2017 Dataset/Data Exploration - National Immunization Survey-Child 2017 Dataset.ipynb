{
 "cells": [
  {
   "cell_type": "markdown",
   "id": "b89f9859",
   "metadata": {},
   "source": [
    "# Data Exploration : National Immunization Survey-Child 2017 Dataset\n",
    "For this assignment I worked with 2017 data on immunizations from the CDC. Datafile for this assignment is in [assets/NISPUF17.csv](assets/NISPUF17.csv). A data users guide for this, which was used to map the variables in the data to the questions being asked, is available at [assets/NIS-PUF17-DUG.pdf](assets/NIS-PUF17-DUG.pdf)."
   ]
  },
  {
   "cell_type": "markdown",
   "id": "5113b3a0",
   "metadata": {},
   "source": [
    "## Part A\n",
    "Question: Write a function called `proportion_of_education` which returns the proportion of children in the dataset who had a mother with the education levels equal to less than high school (<12), high school (12), more than high school but not a college graduate (>12) and college degree.\n",
    "\n",
    "*This function should return a dictionary in the form of (use the correct numbers, do not round numbers):* \n",
    "```\n",
    "    {\"less than high school\":0.2,\n",
    "    \"high school\":0.4,\n",
    "    \"more than high school but not college\":0.2,\n",
    "    \"college\":0.2}\n",
    "```\n"
   ]
  },
  {
   "cell_type": "code",
   "execution_count": 1,
   "id": "d261a9ac",
   "metadata": {},
   "outputs": [],
   "source": [
    "import pandas as pd\n",
    "\n",
    "def proportion_of_education():\n",
    "    df = pd.read_csv(\"assets/NISPUF17.csv\", index_col=0)\n",
    "    df = df[['SEQNUMC','EDUC1']]\n",
    "\n",
    "    result = {}\n",
    "    keys = [\"less than high school\", \"high school\", \"more than high school but not college\", \"college\"]\n",
    "\n",
    "\n",
    "    for i in range(1,len(keys)+1):\n",
    "        proportion = df.where(df['EDUC1']==i).count()[0]/len(df)  # Calculating Percentage\n",
    "        key = keys[i-1]\n",
    "        result[key] = proportion       # Storing Result in the dictionary\n",
    "        \n",
    "    return result\n"
   ]
  },
  {
   "cell_type": "code",
   "execution_count": 2,
   "id": "9d671a81",
   "metadata": {},
   "outputs": [
    {
     "data": {
      "text/plain": [
       "{'less than high school': 0.10202002459160373,\n",
       " 'high school': 0.172352011241876,\n",
       " 'more than high school but not college': 0.24588090637625154,\n",
       " 'college': 0.47974705779026877}"
      ]
     },
     "execution_count": 2,
     "metadata": {},
     "output_type": "execute_result"
    }
   ],
   "source": [
    "proportion_of_education()"
   ]
  },
  {
   "cell_type": "markdown",
   "id": "74b9cea0",
   "metadata": {},
   "source": [
    "## Part B\n",
    "\n",
    "Let's explore the relationship between being fed breastmilk as a child and getting a seasonal influenza vaccine from a healthcare provider.\n",
    "Question: Return a tuple of the average number of influenza vaccines for those children we know received breastmilk as a child and those who know did not.\n",
    "\n",
    "*This function should return a tuple in the form (use the correct numbers:*\n",
    "```\n",
    "(2.5, 0.1)\n",
    "```"
   ]
  },
  {
   "cell_type": "code",
   "execution_count": 3,
   "id": "92c2c272",
   "metadata": {},
   "outputs": [],
   "source": [
    "import pandas as pd\n",
    "\n",
    "def average_influenza_doses():\n",
    "    df = pd.read_csv(\"assets/NISPUF17.csv\", index_col=0)\n",
    "    df = df[['CBF_01', 'P_NUMFLU']].dropna()\n",
    "\n",
    "    result = (df[df['CBF_01']==1]['P_NUMFLU'].sum()/df[df['CBF_01']==1]['P_NUMFLU'].count(), df[df['CBF_01']==2]['P_NUMFLU'].sum()/df[df['CBF_01']==2]['P_NUMFLU'].count())\n",
    "\n",
    "    return result\n"
   ]
  },
  {
   "cell_type": "code",
   "execution_count": 4,
   "id": "52edecd1",
   "metadata": {},
   "outputs": [
    {
     "data": {
      "text/plain": [
       "(1.8799187420058687, 1.5963945918878317)"
      ]
     },
     "execution_count": 4,
     "metadata": {},
     "output_type": "execute_result"
    }
   ],
   "source": [
    "average_influenza_doses()"
   ]
  },
  {
   "cell_type": "markdown",
   "id": "a83aefef",
   "metadata": {},
   "source": [
    "## Part C\n",
    "It would be interesting to see if there is any evidence of a link between vaccine effectiveness and sex of the child.\n",
    "Question: Calculate the ratio of the number of children who contracted chickenpox but were vaccinated against it (at least one varicella dose) versus those who were vaccinated but did not contract chicken pox. Return results by sex. \n",
    "\n",
    "*This function should return a dictionary in the form of (use the correct numbers):* \n",
    "```\n",
    "    {\"male\":0.2,\n",
    "    \"female\":0.4}\n",
    "```\n"
   ]
  },
  {
   "cell_type": "code",
   "execution_count": 5,
   "id": "8033de5a",
   "metadata": {},
   "outputs": [],
   "source": [
    "import pandas as pd\n",
    "\n",
    "def chickenpox_by_sex():\n",
    "    df = pd.read_csv(\"assets/NISPUF17.csv\", index_col=0)\n",
    "    df = df[['SEX', 'HAD_CPOX', 'P_NUMVRC']].dropna()\n",
    "\n",
    "    male_ratio = df[(df['SEX']==1) & (df['HAD_CPOX']==1) & (df['P_NUMVRC']>0)].count()[0] / df[(df['SEX']==1) & (df['HAD_CPOX']==2) & (df['P_NUMVRC']>0)].count()[0]\n",
    "\n",
    "    female_ratio = df[(df['SEX']==2) & (df['HAD_CPOX']==1) & (df['P_NUMVRC']>0)].count()[0] / df[(df['SEX']==2) & (df['HAD_CPOX']==2) & (df['P_NUMVRC']>0)].count()[0]\n",
    "\n",
    "    result = {\"male\": male_ratio, \"female\": female_ratio }\n",
    "    return result\n",
    "\n"
   ]
  },
  {
   "cell_type": "code",
   "execution_count": 6,
   "id": "b07d608d",
   "metadata": {},
   "outputs": [
    {
     "data": {
      "text/plain": [
       "{'male': 0.009675583380762664, 'female': 0.0077918259335489565}"
      ]
     },
     "execution_count": 6,
     "metadata": {},
     "output_type": "execute_result"
    }
   ],
   "source": [
    "chickenpox_by_sex()"
   ]
  },
  {
   "cell_type": "markdown",
   "id": "264b11b9",
   "metadata": {},
   "source": [
    "## Part D\n",
    "A correlation is a statistical relationship between two variables. If we wanted to know if vaccines work, we might look at the correlation between the use of the vaccine and whether it results in prevention of the infection or disease.\n",
    "In this question, we are to see if there is a correlation between having had the chicken pox and the number of chickenpox vaccine doses given (varicella).\n",
    "\n",
    "Some notes on interpreting the answer. The `had_chickenpox_column` is either `1` (for yes) or `2` (for no), and the `num_chickenpox_vaccine_column` is the number of doses a child has been given of the varicella vaccine. A positive correlation (e.g., `corr > 0`) means that an increase in `had_chickenpox_column` (which means more no’s) would also increase the values of `num_chickenpox_vaccine_column` (which means more doses of vaccine). If there is a negative correlation (e.g., `corr < 0`), it indicates that having had chickenpox is related to an increase in the number of vaccine doses.\n"
   ]
  },
  {
   "cell_type": "code",
   "execution_count": 7,
   "id": "739907b2",
   "metadata": {},
   "outputs": [],
   "source": [
    "def corr_chickenpox():\n",
    "    import scipy.stats as stats\n",
    "    import numpy as np\n",
    "    import pandas as pd\n",
    "    \n",
    "    df = pd.read_csv(\"assets/NISPUF17.csv\", index_col=0)\n",
    "    \n",
    "    df = df[['HAD_CPOX', 'P_NUMVRC']].dropna()\n",
    "    df = df[df['HAD_CPOX']!=77]\n",
    "    \n",
    "\n",
    "    corr, pval=stats.pearsonr(df['HAD_CPOX'],df['P_NUMVRC'])\n",
    "    \n",
    "    return corr\n"
   ]
  },
  {
   "cell_type": "code",
   "execution_count": 8,
   "id": "c3a13c12",
   "metadata": {},
   "outputs": [
    {
     "data": {
      "text/plain": [
       "0.07044873460147855"
      ]
     },
     "execution_count": 8,
     "metadata": {},
     "output_type": "execute_result"
    }
   ],
   "source": [
    "corr_chickenpox()"
   ]
  }
 ],
 "metadata": {
  "kernelspec": {
   "display_name": "Python 3 (ipykernel)",
   "language": "python",
   "name": "python3"
  },
  "language_info": {
   "codemirror_mode": {
    "name": "ipython",
    "version": 3
   },
   "file_extension": ".py",
   "mimetype": "text/x-python",
   "name": "python",
   "nbconvert_exporter": "python",
   "pygments_lexer": "ipython3",
   "version": "3.10.3"
  }
 },
 "nbformat": 4,
 "nbformat_minor": 5
}
